{
 "cells": [
  {
   "cell_type": "markdown",
   "metadata": {},
   "source": [
    "#### Работа сделана по данным из файлов 10_x.csv и 10_y.csv, тк мой номер по списку 10, если иттерироваться с 0"
   ]
  },
  {
   "cell_type": "markdown",
   "metadata": {},
   "source": [
    "1. Ваша задача - построить предиктивную модель предсказания целевой переменной в зависимости от значения нескольких факторов (признаков)"
   ]
  },
  {
   "cell_type": "markdown",
   "metadata": {},
   "source": [
    "2. Загрузите датасет из приложения. Вам понадобится два файла - отдельно с признаками (помечен x) и значениями целевой переменной (помечен y). Файлы не содержат заголовков столбцов и строк."
   ]
  },
  {
   "cell_type": "code",
   "execution_count": 1,
   "metadata": {},
   "outputs": [],
   "source": [
    "import pandas as pd\n",
    "import numpy as np\n",
    "import matplotlib.pyplot as plt"
   ]
  },
  {
   "cell_type": "code",
   "execution_count": 2,
   "metadata": {},
   "outputs": [],
   "source": [
    "df_x = pd.read_csv('10_x.csv', header = None)\n",
    "df_y = pd.read_csv('10_y.csv', header = None)"
   ]
  },
  {
   "cell_type": "markdown",
   "metadata": {},
   "source": [
    "3. Сделайте количественное описание датасета: количество точек данных, признаков, статистику по каждому признаку.\n",
    "Разделите все наблюдения на обучающую и тестовую выборки в соотношении 80-20."
   ]
  },
  {
   "cell_type": "code",
   "execution_count": 3,
   "metadata": {},
   "outputs": [],
   "source": [
    "# Посмотрим на данные:"
   ]
  },
  {
   "cell_type": "code",
   "execution_count": 4,
   "metadata": {},
   "outputs": [
    {
     "name": "stdout",
     "output_type": "stream",
     "text": [
      "(437, 5)\n"
     ]
    },
    {
     "data": {
      "text/html": [
       "<div>\n",
       "<style scoped>\n",
       "    .dataframe tbody tr th:only-of-type {\n",
       "        vertical-align: middle;\n",
       "    }\n",
       "\n",
       "    .dataframe tbody tr th {\n",
       "        vertical-align: top;\n",
       "    }\n",
       "\n",
       "    .dataframe thead th {\n",
       "        text-align: right;\n",
       "    }\n",
       "</style>\n",
       "<table border=\"1\" class=\"dataframe\">\n",
       "  <thead>\n",
       "    <tr style=\"text-align: right;\">\n",
       "      <th></th>\n",
       "      <th>0</th>\n",
       "      <th>1</th>\n",
       "      <th>2</th>\n",
       "      <th>3</th>\n",
       "      <th>4</th>\n",
       "    </tr>\n",
       "  </thead>\n",
       "  <tbody>\n",
       "    <tr>\n",
       "      <th>0</th>\n",
       "      <td>-1.590103</td>\n",
       "      <td>-1.023308</td>\n",
       "      <td>0.139891</td>\n",
       "      <td>1.351945</td>\n",
       "      <td>0.998685</td>\n",
       "    </tr>\n",
       "    <tr>\n",
       "      <th>1</th>\n",
       "      <td>-0.235861</td>\n",
       "      <td>-1.108386</td>\n",
       "      <td>2.553156</td>\n",
       "      <td>-1.911015</td>\n",
       "      <td>0.859437</td>\n",
       "    </tr>\n",
       "    <tr>\n",
       "      <th>2</th>\n",
       "      <td>0.037993</td>\n",
       "      <td>-2.136154</td>\n",
       "      <td>0.903113</td>\n",
       "      <td>1.095856</td>\n",
       "      <td>1.024503</td>\n",
       "    </tr>\n",
       "  </tbody>\n",
       "</table>\n",
       "</div>"
      ],
      "text/plain": [
       "          0         1         2         3         4\n",
       "0 -1.590103 -1.023308  0.139891  1.351945  0.998685\n",
       "1 -0.235861 -1.108386  2.553156 -1.911015  0.859437\n",
       "2  0.037993 -2.136154  0.903113  1.095856  1.024503"
      ]
     },
     "execution_count": 4,
     "metadata": {},
     "output_type": "execute_result"
    }
   ],
   "source": [
    "print(df_x.shape)\n",
    "df_x.head(3)"
   ]
  },
  {
   "cell_type": "code",
   "execution_count": 5,
   "metadata": {},
   "outputs": [
    {
     "data": {
      "text/html": [
       "<div>\n",
       "<style scoped>\n",
       "    .dataframe tbody tr th:only-of-type {\n",
       "        vertical-align: middle;\n",
       "    }\n",
       "\n",
       "    .dataframe tbody tr th {\n",
       "        vertical-align: top;\n",
       "    }\n",
       "\n",
       "    .dataframe thead th {\n",
       "        text-align: right;\n",
       "    }\n",
       "</style>\n",
       "<table border=\"1\" class=\"dataframe\">\n",
       "  <thead>\n",
       "    <tr style=\"text-align: right;\">\n",
       "      <th></th>\n",
       "      <th>0</th>\n",
       "      <th>1</th>\n",
       "      <th>2</th>\n",
       "      <th>3</th>\n",
       "      <th>4</th>\n",
       "    </tr>\n",
       "  </thead>\n",
       "  <tbody>\n",
       "    <tr>\n",
       "      <th>count</th>\n",
       "      <td>437.000000</td>\n",
       "      <td>437.000000</td>\n",
       "      <td>437.000000</td>\n",
       "      <td>437.000000</td>\n",
       "      <td>437.000000</td>\n",
       "    </tr>\n",
       "    <tr>\n",
       "      <th>mean</th>\n",
       "      <td>0.047260</td>\n",
       "      <td>0.028446</td>\n",
       "      <td>0.044112</td>\n",
       "      <td>0.059077</td>\n",
       "      <td>0.029750</td>\n",
       "    </tr>\n",
       "    <tr>\n",
       "      <th>std</th>\n",
       "      <td>0.985409</td>\n",
       "      <td>0.978584</td>\n",
       "      <td>1.004005</td>\n",
       "      <td>0.993160</td>\n",
       "      <td>0.964815</td>\n",
       "    </tr>\n",
       "    <tr>\n",
       "      <th>min</th>\n",
       "      <td>-2.639479</td>\n",
       "      <td>-2.833294</td>\n",
       "      <td>-2.791713</td>\n",
       "      <td>-2.824406</td>\n",
       "      <td>-2.860318</td>\n",
       "    </tr>\n",
       "    <tr>\n",
       "      <th>25%</th>\n",
       "      <td>-0.613157</td>\n",
       "      <td>-0.606161</td>\n",
       "      <td>-0.652866</td>\n",
       "      <td>-0.607444</td>\n",
       "      <td>-0.601669</td>\n",
       "    </tr>\n",
       "    <tr>\n",
       "      <th>50%</th>\n",
       "      <td>-0.011851</td>\n",
       "      <td>0.029189</td>\n",
       "      <td>0.069595</td>\n",
       "      <td>0.014312</td>\n",
       "      <td>0.075974</td>\n",
       "    </tr>\n",
       "    <tr>\n",
       "      <th>75%</th>\n",
       "      <td>0.686657</td>\n",
       "      <td>0.669847</td>\n",
       "      <td>0.734619</td>\n",
       "      <td>0.686793</td>\n",
       "      <td>0.719638</td>\n",
       "    </tr>\n",
       "    <tr>\n",
       "      <th>max</th>\n",
       "      <td>2.877366</td>\n",
       "      <td>2.646400</td>\n",
       "      <td>3.443708</td>\n",
       "      <td>3.094108</td>\n",
       "      <td>2.512716</td>\n",
       "    </tr>\n",
       "  </tbody>\n",
       "</table>\n",
       "</div>"
      ],
      "text/plain": [
       "                0           1           2           3           4\n",
       "count  437.000000  437.000000  437.000000  437.000000  437.000000\n",
       "mean     0.047260    0.028446    0.044112    0.059077    0.029750\n",
       "std      0.985409    0.978584    1.004005    0.993160    0.964815\n",
       "min     -2.639479   -2.833294   -2.791713   -2.824406   -2.860318\n",
       "25%     -0.613157   -0.606161   -0.652866   -0.607444   -0.601669\n",
       "50%     -0.011851    0.029189    0.069595    0.014312    0.075974\n",
       "75%      0.686657    0.669847    0.734619    0.686793    0.719638\n",
       "max      2.877366    2.646400    3.443708    3.094108    2.512716"
      ]
     },
     "execution_count": 5,
     "metadata": {},
     "output_type": "execute_result"
    }
   ],
   "source": [
    "df_x.describe()"
   ]
  },
  {
   "cell_type": "code",
   "execution_count": 6,
   "metadata": {},
   "outputs": [
    {
     "name": "stdout",
     "output_type": "stream",
     "text": [
      "(437, 1)\n"
     ]
    },
    {
     "data": {
      "text/html": [
       "<div>\n",
       "<style scoped>\n",
       "    .dataframe tbody tr th:only-of-type {\n",
       "        vertical-align: middle;\n",
       "    }\n",
       "\n",
       "    .dataframe tbody tr th {\n",
       "        vertical-align: top;\n",
       "    }\n",
       "\n",
       "    .dataframe thead th {\n",
       "        text-align: right;\n",
       "    }\n",
       "</style>\n",
       "<table border=\"1\" class=\"dataframe\">\n",
       "  <thead>\n",
       "    <tr style=\"text-align: right;\">\n",
       "      <th></th>\n",
       "      <th>0</th>\n",
       "    </tr>\n",
       "  </thead>\n",
       "  <tbody>\n",
       "    <tr>\n",
       "      <th>0</th>\n",
       "      <td>-20.511355</td>\n",
       "    </tr>\n",
       "    <tr>\n",
       "      <th>1</th>\n",
       "      <td>-137.884100</td>\n",
       "    </tr>\n",
       "    <tr>\n",
       "      <th>2</th>\n",
       "      <td>77.084302</td>\n",
       "    </tr>\n",
       "  </tbody>\n",
       "</table>\n",
       "</div>"
      ],
      "text/plain": [
       "            0\n",
       "0  -20.511355\n",
       "1 -137.884100\n",
       "2   77.084302"
      ]
     },
     "execution_count": 6,
     "metadata": {},
     "output_type": "execute_result"
    }
   ],
   "source": [
    "print(df_y.shape)\n",
    "df_y.head(3)"
   ]
  },
  {
   "cell_type": "code",
   "execution_count": 7,
   "metadata": {},
   "outputs": [
    {
     "data": {
      "text/html": [
       "<div>\n",
       "<style scoped>\n",
       "    .dataframe tbody tr th:only-of-type {\n",
       "        vertical-align: middle;\n",
       "    }\n",
       "\n",
       "    .dataframe tbody tr th {\n",
       "        vertical-align: top;\n",
       "    }\n",
       "\n",
       "    .dataframe thead th {\n",
       "        text-align: right;\n",
       "    }\n",
       "</style>\n",
       "<table border=\"1\" class=\"dataframe\">\n",
       "  <thead>\n",
       "    <tr style=\"text-align: right;\">\n",
       "      <th></th>\n",
       "      <th>0</th>\n",
       "    </tr>\n",
       "  </thead>\n",
       "  <tbody>\n",
       "    <tr>\n",
       "      <th>count</th>\n",
       "      <td>437.000000</td>\n",
       "    </tr>\n",
       "    <tr>\n",
       "      <th>mean</th>\n",
       "      <td>13.576449</td>\n",
       "    </tr>\n",
       "    <tr>\n",
       "      <th>std</th>\n",
       "      <td>134.579270</td>\n",
       "    </tr>\n",
       "    <tr>\n",
       "      <th>min</th>\n",
       "      <td>-360.440671</td>\n",
       "    </tr>\n",
       "    <tr>\n",
       "      <th>25%</th>\n",
       "      <td>-72.961234</td>\n",
       "    </tr>\n",
       "    <tr>\n",
       "      <th>50%</th>\n",
       "      <td>13.121595</td>\n",
       "    </tr>\n",
       "    <tr>\n",
       "      <th>75%</th>\n",
       "      <td>92.082633</td>\n",
       "    </tr>\n",
       "    <tr>\n",
       "      <th>max</th>\n",
       "      <td>475.993698</td>\n",
       "    </tr>\n",
       "  </tbody>\n",
       "</table>\n",
       "</div>"
      ],
      "text/plain": [
       "                0\n",
       "count  437.000000\n",
       "mean    13.576449\n",
       "std    134.579270\n",
       "min   -360.440671\n",
       "25%    -72.961234\n",
       "50%     13.121595\n",
       "75%     92.082633\n",
       "max    475.993698"
      ]
     },
     "execution_count": 7,
     "metadata": {},
     "output_type": "execute_result"
    }
   ],
   "source": [
    "df_y.describe()"
   ]
  },
  {
   "cell_type": "code",
   "execution_count": 8,
   "metadata": {},
   "outputs": [],
   "source": [
    "# Разобьем выборку\n",
    "from sklearn.model_selection import train_test_split\n",
    "\n",
    "X_train, X_test, y_train, y_test = train_test_split(df_x, df_y, \n",
    "                                                    test_size = 0.2, \n",
    "                                                    random_state = 1)"
   ]
  },
  {
   "cell_type": "code",
   "execution_count": 9,
   "metadata": {},
   "outputs": [
    {
     "data": {
      "text/html": [
       "<div>\n",
       "<style scoped>\n",
       "    .dataframe tbody tr th:only-of-type {\n",
       "        vertical-align: middle;\n",
       "    }\n",
       "\n",
       "    .dataframe tbody tr th {\n",
       "        vertical-align: top;\n",
       "    }\n",
       "\n",
       "    .dataframe thead th {\n",
       "        text-align: right;\n",
       "    }\n",
       "</style>\n",
       "<table border=\"1\" class=\"dataframe\">\n",
       "  <thead>\n",
       "    <tr style=\"text-align: right;\">\n",
       "      <th></th>\n",
       "      <th>0</th>\n",
       "      <th>1</th>\n",
       "      <th>2</th>\n",
       "      <th>3</th>\n",
       "      <th>4</th>\n",
       "    </tr>\n",
       "  </thead>\n",
       "  <tbody>\n",
       "    <tr>\n",
       "      <th>80</th>\n",
       "      <td>-2.092365</td>\n",
       "      <td>1.442969</td>\n",
       "      <td>0.514518</td>\n",
       "      <td>-0.273160</td>\n",
       "      <td>-0.700531</td>\n",
       "    </tr>\n",
       "    <tr>\n",
       "      <th>46</th>\n",
       "      <td>0.334645</td>\n",
       "      <td>-0.412131</td>\n",
       "      <td>0.030502</td>\n",
       "      <td>-0.636530</td>\n",
       "      <td>1.022191</td>\n",
       "    </tr>\n",
       "    <tr>\n",
       "      <th>218</th>\n",
       "      <td>1.975099</td>\n",
       "      <td>-0.636043</td>\n",
       "      <td>-0.559214</td>\n",
       "      <td>0.455327</td>\n",
       "      <td>-0.150164</td>\n",
       "    </tr>\n",
       "  </tbody>\n",
       "</table>\n",
       "</div>"
      ],
      "text/plain": [
       "            0         1         2         3         4\n",
       "80  -2.092365  1.442969  0.514518 -0.273160 -0.700531\n",
       "46   0.334645 -0.412131  0.030502 -0.636530  1.022191\n",
       "218  1.975099 -0.636043 -0.559214  0.455327 -0.150164"
      ]
     },
     "execution_count": 9,
     "metadata": {},
     "output_type": "execute_result"
    }
   ],
   "source": [
    "X_train.head(3)"
   ]
  },
  {
   "cell_type": "markdown",
   "metadata": {},
   "source": [
    "5. Для целевой и каждого из признаков постройте парную регрессионную модель. Визуализируйте линию регрессии и исходные данные на графике. При помощи коэффициентов оцените силу связи."
   ]
  },
  {
   "cell_type": "code",
   "execution_count": 10,
   "metadata": {},
   "outputs": [],
   "source": [
    "from sklearn.linear_model import LinearRegression"
   ]
  },
  {
   "cell_type": "code",
   "execution_count": 11,
   "metadata": {},
   "outputs": [],
   "source": [
    "# Парные регрессии:"
   ]
  },
  {
   "cell_type": "code",
   "execution_count": 12,
   "metadata": {},
   "outputs": [
    {
     "data": {
      "text/html": [
       "<div>\n",
       "<style scoped>\n",
       "    .dataframe tbody tr th:only-of-type {\n",
       "        vertical-align: middle;\n",
       "    }\n",
       "\n",
       "    .dataframe tbody tr th {\n",
       "        vertical-align: top;\n",
       "    }\n",
       "\n",
       "    .dataframe thead th {\n",
       "        text-align: right;\n",
       "    }\n",
       "</style>\n",
       "<table border=\"1\" class=\"dataframe\">\n",
       "  <thead>\n",
       "    <tr style=\"text-align: right;\">\n",
       "      <th></th>\n",
       "      <th>0</th>\n",
       "    </tr>\n",
       "  </thead>\n",
       "  <tbody>\n",
       "    <tr>\n",
       "      <th>80</th>\n",
       "      <td>-2.092365</td>\n",
       "    </tr>\n",
       "    <tr>\n",
       "      <th>46</th>\n",
       "      <td>0.334645</td>\n",
       "    </tr>\n",
       "    <tr>\n",
       "      <th>218</th>\n",
       "      <td>1.975099</td>\n",
       "    </tr>\n",
       "    <tr>\n",
       "      <th>85</th>\n",
       "      <td>1.002218</td>\n",
       "    </tr>\n",
       "    <tr>\n",
       "      <th>334</th>\n",
       "      <td>1.415904</td>\n",
       "    </tr>\n",
       "    <tr>\n",
       "      <th>...</th>\n",
       "      <td>...</td>\n",
       "    </tr>\n",
       "    <tr>\n",
       "      <th>255</th>\n",
       "      <td>0.227184</td>\n",
       "    </tr>\n",
       "    <tr>\n",
       "      <th>72</th>\n",
       "      <td>-1.412878</td>\n",
       "    </tr>\n",
       "    <tr>\n",
       "      <th>396</th>\n",
       "      <td>1.428729</td>\n",
       "    </tr>\n",
       "    <tr>\n",
       "      <th>235</th>\n",
       "      <td>0.102227</td>\n",
       "    </tr>\n",
       "    <tr>\n",
       "      <th>37</th>\n",
       "      <td>0.738471</td>\n",
       "    </tr>\n",
       "  </tbody>\n",
       "</table>\n",
       "<p>349 rows × 1 columns</p>\n",
       "</div>"
      ],
      "text/plain": [
       "            0\n",
       "80  -2.092365\n",
       "46   0.334645\n",
       "218  1.975099\n",
       "85   1.002218\n",
       "334  1.415904\n",
       "..        ...\n",
       "255  0.227184\n",
       "72  -1.412878\n",
       "396  1.428729\n",
       "235  0.102227\n",
       "37   0.738471\n",
       "\n",
       "[349 rows x 1 columns]"
      ]
     },
     "execution_count": 12,
     "metadata": {},
     "output_type": "execute_result"
    }
   ],
   "source": [
    "X_train[[0]]"
   ]
  },
  {
   "cell_type": "code",
   "execution_count": 12,
   "metadata": {},
   "outputs": [
    {
     "name": "stdout",
     "output_type": "stream",
     "text": [
      "[8.38883152]\n",
      "[[76.31106962]]\n"
     ]
    },
    {
     "data": {
      "text/plain": [
       "0.3330294912686006"
      ]
     },
     "execution_count": 12,
     "metadata": {},
     "output_type": "execute_result"
    }
   ],
   "source": [
    "reg_0 = LinearRegression().fit(X_train[[0]], y_train)\n",
    "print(reg_0.intercept_)\n",
    "print(reg_0.coef_)\n",
    "\n",
    "reg_0.score(X_test[[0]], y_test)"
   ]
  },
  {
   "cell_type": "code",
   "execution_count": 13,
   "metadata": {},
   "outputs": [
    {
     "data": {
      "image/png": "[encoded data removed]",
      "text/plain": [
       "<Figure size 720x432 with 1 Axes>"
      ]
     },
     "metadata": {
      "needs_background": "light"
     },
     "output_type": "display_data"
    }
   ],
   "source": [
    "fig, ax = plt.subplots(figsize=(10, 6))\n",
    "plt.title('Линия парной регрессии (парметр 0) и исходные данные')\n",
    "plt.plot(X_train[[0]], y_train,'ro')\n",
    "plt.xlabel('x0')\n",
    "plt.ylabel('y')\n",
    "\n",
    "x = X_train[[0]]\n",
    "plt.plot(x, reg_0.intercept_[0] + reg_0.coef_[0][0]*x)\n",
    "plt.show()"
   ]
  },
  {
   "cell_type": "code",
   "execution_count": 14,
   "metadata": {},
   "outputs": [
    {
     "name": "stdout",
     "output_type": "stream",
     "text": [
      "[12.09128724]\n",
      "[[43.30364254]]\n"
     ]
    },
    {
     "data": {
      "text/plain": [
       "0.14363420612261502"
      ]
     },
     "execution_count": 14,
     "metadata": {},
     "output_type": "execute_result"
    }
   ],
   "source": [
    "reg_1 = LinearRegression().fit(X_train[[1]], y_train)\n",
    "print(reg_1.intercept_)\n",
    "print(reg_1.coef_)\n",
    "\n",
    "reg_1.score(X_test[[1]], y_test)"
   ]
  },
  {
   "cell_type": "code",
   "execution_count": 15,
   "metadata": {},
   "outputs": [
    {
     "data": {
      "image/png": "[encoded data removed]",
      "text/plain": [
       "<Figure size 720x432 with 1 Axes>"
      ]
     },
     "metadata": {
      "needs_background": "light"
     },
     "output_type": "display_data"
    }
   ],
   "source": [
    "fig, ax = plt.subplots(figsize=(10, 6))\n",
    "plt.title('Линия парной регрессии (парметр 1) и исходные данные')\n",
    "plt.plot(X_train[[1]], y_train,'ro')\n",
    "plt.xlabel('x1')\n",
    "plt.ylabel('y')\n",
    "\n",
    "x = X_train[[1]]\n",
    "plt.plot(x, reg_1.intercept_[0] + reg_1.coef_[0][0]*x)\n",
    "plt.show()"
   ]
  },
  {
   "cell_type": "code",
   "execution_count": 16,
   "metadata": {},
   "outputs": [
    {
     "name": "stdout",
     "output_type": "stream",
     "text": [
      "[13.24119507]\n",
      "[[20.90787887]]\n"
     ]
    },
    {
     "data": {
      "text/plain": [
       "0.027791625002522857"
      ]
     },
     "execution_count": 16,
     "metadata": {},
     "output_type": "execute_result"
    }
   ],
   "source": [
    "reg_2 = LinearRegression().fit(X_train[[2]], y_train)\n",
    "print(reg_2.intercept_)\n",
    "print(reg_2.coef_)\n",
    "\n",
    "reg_2.score(X_test[[2]], y_test)"
   ]
  },
  {
   "cell_type": "code",
   "execution_count": 17,
   "metadata": {},
   "outputs": [
    {
     "data": {
      "image/png": "[encoded data removed]",
      "text/plain": [
       "<Figure size 720x432 with 1 Axes>"
      ]
     },
     "metadata": {
      "needs_background": "light"
     },
     "output_type": "display_data"
    }
   ],
   "source": [
    "fig, ax = plt.subplots(figsize=(10, 6))\n",
    "plt.title('Линия парной регрессии (парметр 2) и исходные данные')\n",
    "plt.plot(X_train[[2]], y_train,'ro')\n",
    "plt.xlabel('x2')\n",
    "plt.ylabel('y')\n",
    "\n",
    "x = X_train[[2]]\n",
    "plt.plot(x, reg_2.intercept_[0] + reg_2.coef_[0][0]*x)\n",
    "plt.show()"
   ]
  },
  {
   "cell_type": "code",
   "execution_count": 18,
   "metadata": {},
   "outputs": [
    {
     "name": "stdout",
     "output_type": "stream",
     "text": [
      "[12.91432201]\n",
      "[[92.30716982]]\n"
     ]
    },
    {
     "data": {
      "text/plain": [
       "0.41385177906589576"
      ]
     },
     "execution_count": 18,
     "metadata": {},
     "output_type": "execute_result"
    }
   ],
   "source": [
    "reg_3 = LinearRegression().fit(X_train[[3]], y_train)\n",
    "print(reg_3.intercept_)\n",
    "print(reg_3.coef_)\n",
    "\n",
    "reg_3.score(X_test[[3]], y_test)"
   ]
  },
  {
   "cell_type": "code",
   "execution_count": 19,
   "metadata": {},
   "outputs": [
    {
     "data": {
      "image/png": "[encoded data removed]",
      "text/plain": [
       "<Figure size 720x432 with 1 Axes>"
      ]
     },
     "metadata": {
      "needs_background": "light"
     },
     "output_type": "display_data"
    }
   ],
   "source": [
    "fig, ax = plt.subplots(figsize=(10, 6))\n",
    "plt.title('Линия парной регрессии (парметр 3) и исходные данные')\n",
    "plt.plot(X_train[[3]], y_train,'ro')\n",
    "plt.xlabel('x3')\n",
    "plt.ylabel('y')\n",
    "\n",
    "x = X_train[[3]]\n",
    "plt.plot(x, reg_3.intercept_[0] + reg_3.coef_[0][0]*x)\n",
    "plt.show()"
   ]
  },
  {
   "cell_type": "code",
   "execution_count": 20,
   "metadata": {},
   "outputs": [
    {
     "name": "stdout",
     "output_type": "stream",
     "text": [
      "[14.16623855]\n",
      "[[22.05291391]]\n"
     ]
    },
    {
     "data": {
      "text/plain": [
       "0.042938875616590155"
      ]
     },
     "execution_count": 20,
     "metadata": {},
     "output_type": "execute_result"
    }
   ],
   "source": [
    "reg_4 = LinearRegression().fit(X_train[[4]], y_train)\n",
    "print(reg_4.intercept_)\n",
    "print(reg_4.coef_)\n",
    "\n",
    "reg_4.score(X_test[[4]], y_test)"
   ]
  },
  {
   "cell_type": "code",
   "execution_count": 21,
   "metadata": {},
   "outputs": [
    {
     "data": {
      "image/png": "[encoded data removed]",
      "text/plain": [
       "<Figure size 720x432 with 1 Axes>"
      ]
     },
     "metadata": {
      "needs_background": "light"
     },
     "output_type": "display_data"
    }
   ],
   "source": [
    "fig, ax = plt.subplots(figsize=(10, 6))\n",
    "plt.title('Линия парной регрессии (парметр 4) и исходные данные')\n",
    "plt.plot(X_train[[4]], y_train,'ro')\n",
    "plt.xlabel('x4')\n",
    "plt.ylabel('y')\n",
    "\n",
    "x = X_train[[4]]\n",
    "plt.plot(x, reg_4.intercept_[0] + reg_4.coef_[0][0]*x)\n",
    "plt.show()"
   ]
  },
  {
   "cell_type": "code",
   "execution_count": 22,
   "metadata": {},
   "outputs": [
    {
     "name": "stdout",
     "output_type": "stream",
     "text": [
      " Мы видим, что самое большой коэфф зависимости имеет параметр '3' \n",
      " Коэфф равен 92.3071698180376\n",
      " Это означает, что велика вероятность, что именно этот фактор имеет самое большое влияние на целевую функцию\n",
      " Т.е изменение этого параметра на 1 уе больше всего повлияет на результат (по сравнению с другими)\n"
     ]
    }
   ],
   "source": [
    "print(f' Мы видим, что самое большой коэфф зависимости имеет параметр \\'{np.argmax([reg_0.coef_, reg_1.coef_, reg_2.coef_,reg_3.coef_, reg_4.coef_])}\\' \\n Коэфф равен {np.max([reg_0.coef_, reg_1.coef_, reg_2.coef_,reg_3.coef_, reg_4.coef_])}')\n",
    "print(' Это означает, что велика вероятность, что именно этот фактор имеет самое большое влияние на целевую функцию')\n",
    "print(' Т.е изменение этого параметра на 1 уе больше всего повлияет на результат (по сравнению с другими)')"
   ]
  },
  {
   "cell_type": "code",
   "execution_count": 23,
   "metadata": {},
   "outputs": [
    {
     "name": "stdout",
     "output_type": "stream",
     "text": [
      " Однако лучше всего исходные данные апроксимирует парметр '3'\n",
      " Его оценка точности составила 0.41385177906589576\n"
     ]
    }
   ],
   "source": [
    "print(f' Однако лучше всего исходные данные апроксимирует парметр \\'{np.argmax([reg_0.score(X_test[[0]], y_test), reg_1.score(X_test[[1]], y_test), reg_2.score(X_test[[2]], y_test), reg_3.score(X_test[[3]], y_test),reg_4.score(X_test[[4]], y_test)])}\\'')\n",
    "print(f' Его оценка точности составила {np.max([reg_0.score(X_test[[0]], y_test), reg_1.score(X_test[[1]], y_test), reg_2.score(X_test[[2]], y_test), reg_3.score(X_test[[3]], y_test),reg_4.score(X_test[[4]], y_test)])}')"
   ]
  },
  {
   "cell_type": "code",
   "execution_count": 24,
   "metadata": {},
   "outputs": [
    {
     "name": "stdout",
     "output_type": "stream",
     "text": [
      " Это означает, что именно этот признак лучше всего в одиночку апроксиирует наш у\n"
     ]
    }
   ],
   "source": [
    "print(' Это означает, что именно этот признак лучше всего в одиночку апроксиирует наш у')"
   ]
  },
  {
   "cell_type": "code",
   "execution_count": 25,
   "metadata": {},
   "outputs": [
    {
     "name": "stdout",
     "output_type": "stream",
     "text": [
      " В данном случае мы видим, что эти признаки совпали\n"
     ]
    }
   ],
   "source": [
    "print(' В данном случае мы видим, что эти признаки совпали')"
   ]
  },
  {
   "cell_type": "markdown",
   "metadata": {},
   "source": [
    "6. Постройте модель множественной линейной регрессии целевой переменной от всех показателей. Оцените качество регрессии, сделайте вывод."
   ]
  },
  {
   "cell_type": "code",
   "execution_count": 26,
   "metadata": {},
   "outputs": [
    {
     "name": "stdout",
     "output_type": "stream",
     "text": [
      "[0.56130543]\n",
      "[[84.80850362 48.28402714 29.88859269 89.30292844 33.60934164]]\n"
     ]
    },
    {
     "data": {
      "text/plain": [
       "0.9945001542378032"
      ]
     },
     "execution_count": 26,
     "metadata": {},
     "output_type": "execute_result"
    }
   ],
   "source": [
    "reg_mn = LinearRegression().fit(X_train, y_train)\n",
    "print(reg_mn.intercept_)\n",
    "print(reg_mn.coef_)\n",
    "\n",
    "reg_mn.score(X_test, y_test)"
   ]
  },
  {
   "cell_type": "code",
   "execution_count": 27,
   "metadata": {},
   "outputs": [
    {
     "name": "stdout",
     "output_type": "stream",
     "text": [
      "Наше итоговое апроксимирующее уравнение:\n",
      " 0.5613054340842005 + 84.8085036246935x0 + 48.28402714407367x1 \n",
      "  + 29.888592693857298x2 + 89.30292843893446x3 + 33.60934164198005x4\n"
     ]
    }
   ],
   "source": [
    "print('Наше итоговое апроксимирующее уравнение:')\n",
    "rez_eq = f' {reg_mn.intercept_[0]} + {reg_mn.coef_[0][0]}x0 + {reg_mn.coef_[0][1]}x1 \\n  + {reg_mn.coef_[0][2]}x2 + {reg_mn.coef_[0][3]}x3 + {reg_mn.coef_[0][4]}x4'\n",
    "print(rez_eq)"
   ]
  },
  {
   "cell_type": "code",
   "execution_count": 28,
   "metadata": {},
   "outputs": [],
   "source": [
    "# reg_mn.predict(X_train)"
   ]
  },
  {
   "cell_type": "markdown",
   "metadata": {},
   "source": [
    "#### Выводы </br>\n",
    "\n",
    "Оценка точности нашей итоговой модели множественной линейной регрессии на тестовой выборке дала результат в 99%, что говорит о  том, что она хорошо справляется с предсказыванием\n",
    "\n",
    "Самый большой коэфф в итоговой модели стоит перед фактором х3. Это означает, что именно этот фактор имеет самое большое влияние на итоговые предсказания"
   ]
  }
 ],
 "metadata": {
  "kernelspec": {
   "display_name": "Python 3",
   "language": "python",
   "name": "python3"
  },
  "language_info": {
   "codemirror_mode": {
    "name": "ipython",
    "version": 3
   },
   "file_extension": ".py",
   "mimetype": "text/x-python",
   "name": "python",
   "nbconvert_exporter": "python",
   "pygments_lexer": "ipython3",
   "version": "3.8.5"
  }
 },
 "nbformat": 4,
 "nbformat_minor": 4
}
